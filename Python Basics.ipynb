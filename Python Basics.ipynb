{
 "cells": [
  {
   "cell_type": "markdown",
   "id": "35b9c2c9-5bfa-4e07-a4f4-a703d2b6251c",
   "metadata": {
    "panel-layout": {
     "height": 59.7125,
     "visible": true,
     "width": 100
    }
   },
   "source": [
    "1. What is Python, and why is it popular?\n",
    "   - Python is a high-level, interpreted, general purpose programming language that is versatile and beginner-friendly due to its English-like syntax and hence easier to read. It is also an open source language that is maintained by a large community of developers.\n",
    "   - It is popular as it has a rich ecosystem of libraries and we get a wealth of resources from the vast community of Python developers. Python is scalable for all types of uses, like application development, web development, Machine Learning, Artificial Intelligence."
   ]
  },
  {
   "cell_type": "markdown",
   "id": "bdbf9614-a1a2-4c5e-b184-e233db812fd8",
   "metadata": {
    "panel-layout": {
     "height": 85.4124984741211,
     "visible": true,
     "width": 100
    }
   },
   "source": [
    "2. What is an interpreter in Python?\n",
    "   - An interpreter in Python is a program that directly executes code line by line, without the need to compile the entire program at once. It reads and translates one line at a time, converting the code into machine-readable instructions. So, we can run a Python script immediately after writing, and it makes debugging easier since the interpreter stops and reports an error as soon as it encounters a problem on a specific line."
   ]
  },
  {
   "cell_type": "markdown",
   "id": "363dfe51-d1b4-4665-99c6-5a03b9592113",
   "metadata": {
    "panel-layout": {
     "height": 102.55000305175781,
     "visible": true,
     "width": 100
    }
   },
   "source": [
    "3. What are pre-defined keywords in Python?\n",
    "   - Pre-defined keywords in Python are special, reserved words that have a specific meaning and cannot be used as names for variables, functions or any other identifiers. They are fundamental building blocks of Python's syntax.\n",
    "   - Example: if, else, for, while, class, import, return, True, False etc."
   ]
  },
  {
   "cell_type": "markdown",
   "id": "db8af0c0-b50c-4951-a5f6-ea31e00fe88e",
   "metadata": {
    "panel-layout": {
     "height": 68.2750244140625,
     "visible": true,
     "width": 100
    }
   },
   "source": [
    "4. Can keywords be used as variable names?\n",
    "   - No, keywords are reserved words that have specific meaning and cannot be used for variable names."
   ]
  },
  {
   "cell_type": "markdown",
   "id": "cf904d41-d8e9-474d-ba08-424558c3e2d8",
   "metadata": {
    "panel-layout": {
     "height": 102.55000305175781,
     "visible": true,
     "width": 100
    }
   },
   "source": [
    "5. What is mutability in Python?\n",
    "   - Mutability in Python refers to if an object's state can be changed after it is created.\n",
    "   - Mutable objects are the ones that can be modified after they are created.\n",
    "   - Immutable objects are the ones that cannot be modified after they are created."
   ]
  },
  {
   "cell_type": "markdown",
   "id": "c0c00ed1-c721-40ca-ba36-001abe931476",
   "metadata": {
    "panel-layout": {
     "height": 114.55000305175781,
     "visible": true,
     "width": 100
    }
   },
   "source": [
    "6. Why are lists mutable, but tuples are immutable?\n",
    "    - Lists are mutable because they are designed to be dynamic sequences of elements that can be modified after creation. We can add, remove, or modify elements in a list without the need to create a new object. This makes lists an ideal choice for situations where the data is expected to change frequently.\n",
    "    - Tuples are immutable and hence their elements cannot be modified, added, or removed once the tuple is created. With this, we make sure the data stored in a tuple remains constant and faster to iterate."
   ]
  },
  {
   "cell_type": "markdown",
   "id": "ff1a9424-f07c-4e6c-bf62-4c2618366927",
   "metadata": {},
   "source": [
    "7. What is the difference between “==” and “is” operators in Python?\n",
    "   - Both are comparision operators\n",
    "   - \"==\" compares the values of two objects to see if they are equal. It checks if the contents of the objects are the same.\n",
    "   - \"is\" operator compares the identity of two objects to see if they refer to the exact same objects in memory. It checks if they are literally the same instance."
   ]
  },
  {
   "cell_type": "markdown",
   "id": "083ebfaa-9c48-43bb-a869-613fa7b9b5be",
   "metadata": {},
   "source": [
    "8. What are logical operators in Python?\n",
    "   - Logical operators in Python are tools used to combine conditional statements. There are three main logical operators that are and, or, and not.\n",
    "   - and returns True if both statements are true.\n",
    "   - or returns True if atlest one of the statements is true.\n",
    "   - not reverses the logical state of a condition (True is changed to False and False is changed to True)."
   ]
  },
  {
   "cell_type": "markdown",
   "id": "887784e0-f105-414a-a61f-f59d06cb0aa2",
   "metadata": {},
   "source": [
    "9. What is type casting in Python?\n",
    "    - Type casting also known as type conversion, is a process of converting a variable from one data type to another. Using type casting, I can change a variable of String type to Integer, Float to String and so on."
   ]
  },
  {
   "cell_type": "markdown",
   "id": "7c11990b-5e53-4ab0-9ae7-256c2f694aa1",
   "metadata": {},
   "source": [
    "10. What is the difference between implicit and explicit type casting?\n",
    "    - A type casting can be called an implicit or explicit type casting based on who does the type casting.\n",
    "    - If Python interpreter automatically does the type casting it is called implicity type casting.\n",
    "    - If the programmer manually sets a type casting for a variable, it is called explicit type casting."
   ]
  },
  {
   "cell_type": "markdown",
   "id": "1da1f847-579f-4496-b366-9f71044efd9d",
   "metadata": {},
   "source": [
    "11. What is the purpose of conditional statements in Python?\n",
    "    - The purpose of conditional statements in Python is to execute different blocks of code based on if a specified condition is satisfied. This allows a program to make decisions and perform different actions depending on the input."
   ]
  },
  {
   "cell_type": "markdown",
   "id": "1dff6116-17e9-4c18-b4dd-8064294386f9",
   "metadata": {},
   "source": [
    "12. How does the elif statement work?\n",
    "    - The elif statement in Python is used to check multiple conditions sequentially. It follows an initial if statement and allows to test another condition if the previous if or elif condition was false.\n",
    "    - If the initial condition is false, control goes to the first elif statement, if this too is false it goes to the next elif statement until the else case if none of the conditions are met."
   ]
  },
  {
   "cell_type": "markdown",
   "id": "0e2414c7-7635-4a10-8dda-b60d7b3a7dbe",
   "metadata": {},
   "source": [
    "13. What is the difference between for and while loops?\n",
    "    - For loop is used to iterate over a sequence (like a list, tuple, or string) or any other iterable object. It is best used when we know the number of iterations in advance or when we need to process each item in a collection one by one.\n",
    "    - While loop is used to repeatedly execute a block of code as long as a given condition remains True. It is best used when the number of iterations is not known and depends on the condition remaining True. The loop will continue to run until the condition becomes False."
   ]
  },
  {
   "cell_type": "markdown",
   "id": "bed72a7e-4e19-4b91-9bad-3fb7779b2e35",
   "metadata": {},
   "source": [
    "14. Describe a scenario where a while loop is more suitable than a for loop.\n",
    "    - In case of a scenario where I want to allow entry only to people whose names start with letter C, I have no actual idea of how many people are present so, I can put a while condition to check if the name starts with C and if yes, we run the code in the while loop.\n",
    "    - In this case, since we dont have an idea of the number of people and the possible names, we cannot use a for loop here."
   ]
  },
  {
   "cell_type": "code",
   "execution_count": 1,
   "id": "9be831fd-3222-4edc-8dd4-5b574a950a3a",
   "metadata": {},
   "outputs": [
    {
     "name": "stdout",
     "output_type": "stream",
     "text": [
      "Hello, World!\n"
     ]
    }
   ],
   "source": [
    "# Write a Python program to print \"Hello, World!\n",
    "\n",
    "print(\"Hello, World!\")"
   ]
  },
  {
   "cell_type": "code",
   "execution_count": 2,
   "id": "c2df7e0e-e35d-4a00-ba49-7f7465897ee0",
   "metadata": {},
   "outputs": [
    {
     "name": "stdin",
     "output_type": "stream",
     "text": [
      "Enter name:  John\n",
      "Enter age:  20\n"
     ]
    },
    {
     "name": "stdout",
     "output_type": "stream",
     "text": [
      "Name: John\n",
      "Age: 20\n"
     ]
    }
   ],
   "source": [
    "# Write a Python program that displays your name and age\n",
    "name = input(\"Enter name: \")\n",
    "age = input(\"Enter age: \")\n",
    "\n",
    "print(f\"Name: {name}\\nAge: {age}\")"
   ]
  },
  {
   "cell_type": "code",
   "execution_count": 4,
   "id": "39337d18-45fd-4277-8c50-bb87d55047f7",
   "metadata": {},
   "outputs": [
    {
     "name": "stdout",
     "output_type": "stream",
     "text": [
      "List of Python keywords:\n",
      "['False', 'None', 'True', 'and', 'as', 'assert', 'async', 'await', 'break', 'class', 'continue', 'def', 'del', 'elif', 'else', 'except', 'finally', 'for', 'from', 'global', 'if', 'import', 'in', 'is', 'lambda', 'nonlocal', 'not', 'or', 'pass', 'raise', 'return', 'try', 'while', 'with', 'yield']\n"
     ]
    }
   ],
   "source": [
    "# Write code to print all the pre-defined keywords in Python using the keyword library\n",
    "import keyword\n",
    "\n",
    "print(\"List of pre-defined keywords:\")\n",
    "print(keyword.kwlist)"
   ]
  },
  {
   "cell_type": "code",
   "execution_count": 8,
   "id": "6df6bda5-6998-4dc1-b030-87276f67fc9d",
   "metadata": {},
   "outputs": [
    {
     "name": "stdin",
     "output_type": "stream",
     "text": [
      "Enter a word:  def\n"
     ]
    },
    {
     "name": "stdout",
     "output_type": "stream",
     "text": [
      "'def' is a Python keyword.\n"
     ]
    }
   ],
   "source": [
    "# Write a program that checks if a given word is a Python keyword\n",
    "import keyword\n",
    "\n",
    "word = input(\"Enter a word: \")\n",
    "\n",
    "if keyword.iskeyword(word):\n",
    "    print(f\"'{word}' is a Python keyword.\")\n",
    "else:\n",
    "    print(f\"'{word}' is not a Python keyword.\")\n"
   ]
  },
  {
   "cell_type": "code",
   "execution_count": 10,
   "id": "46319a07-e579-428d-bb94-30ca92094b2c",
   "metadata": {},
   "outputs": [
    {
     "name": "stdout",
     "output_type": "stream",
     "text": [
      "Original list: [1, 2, 3, 4]\n",
      "List after changing an element: [1, 25, 3, 4]\n",
      "--------------------\n",
      "Original tuple: (1, 2, 3, 4)\n"
     ]
    },
    {
     "ename": "TypeError",
     "evalue": "'tuple' object does not support item assignment",
     "output_type": "error",
     "traceback": [
      "\u001b[1;31m---------------------------------------------------------------------------\u001b[0m",
      "\u001b[1;31mTypeError\u001b[0m                                 Traceback (most recent call last)",
      "Cell \u001b[1;32mIn[10], line 13\u001b[0m\n\u001b[0;32m     10\u001b[0m my_tuple \u001b[38;5;241m=\u001b[39m (\u001b[38;5;241m1\u001b[39m, \u001b[38;5;241m2\u001b[39m, \u001b[38;5;241m3\u001b[39m, \u001b[38;5;241m4\u001b[39m)\n\u001b[0;32m     11\u001b[0m \u001b[38;5;28mprint\u001b[39m(\u001b[38;5;124mf\u001b[39m\u001b[38;5;124m\"\u001b[39m\u001b[38;5;124mOriginal tuple: \u001b[39m\u001b[38;5;132;01m{\u001b[39;00mmy_tuple\u001b[38;5;132;01m}\u001b[39;00m\u001b[38;5;124m\"\u001b[39m)\n\u001b[1;32m---> 13\u001b[0m my_tuple[\u001b[38;5;241m1\u001b[39m] \u001b[38;5;241m=\u001b[39m \u001b[38;5;241m25\u001b[39m\n",
      "\u001b[1;31mTypeError\u001b[0m: 'tuple' object does not support item assignment"
     ]
    }
   ],
   "source": [
    "# Create a list and tuple in Python, and demonstrate how attempting to change an element works differently for each.\n",
    "my_list = [1, 2, 3, 4]\n",
    "print(f\"Original list: {my_list}\")\n",
    "\n",
    "my_list[1] = 25\n",
    "print(f\"List after changing an element: {my_list}\")\n",
    "\n",
    "print(\"-\" * 20)\n",
    "\n",
    "my_tuple = (1, 2, 3, 4)\n",
    "print(f\"Original tuple: {my_tuple}\")\n",
    "\n",
    "my_tuple[1] = 25\n"
   ]
  },
  {
   "cell_type": "code",
   "execution_count": 12,
   "id": "602ea55a-ad06-43db-802a-c731141dee0d",
   "metadata": {},
   "outputs": [
    {
     "name": "stdout",
     "output_type": "stream",
     "text": [
      "Original list: [1, 2, 3, 4]\n",
      "List after changing an element: [1, 25, 3, 4]\n",
      "--------------------\n",
      "Original tuple: (1, 2, 3, 4)\n"
     ]
    },
    {
     "ename": "TypeError",
     "evalue": "'tuple' object does not support item assignment",
     "output_type": "error",
     "traceback": [
      "\u001b[1;31m---------------------------------------------------------------------------\u001b[0m",
      "\u001b[1;31mTypeError\u001b[0m                                 Traceback (most recent call last)",
      "Cell \u001b[1;32mIn[12], line 13\u001b[0m\n\u001b[0;32m     10\u001b[0m my_tuple \u001b[38;5;241m=\u001b[39m (\u001b[38;5;241m1\u001b[39m, \u001b[38;5;241m2\u001b[39m, \u001b[38;5;241m3\u001b[39m, \u001b[38;5;241m4\u001b[39m)\n\u001b[0;32m     11\u001b[0m \u001b[38;5;28mprint\u001b[39m(\u001b[38;5;124mf\u001b[39m\u001b[38;5;124m\"\u001b[39m\u001b[38;5;124mOriginal tuple: \u001b[39m\u001b[38;5;132;01m{\u001b[39;00mmy_tuple\u001b[38;5;132;01m}\u001b[39;00m\u001b[38;5;124m\"\u001b[39m)\n\u001b[1;32m---> 13\u001b[0m my_tuple[\u001b[38;5;241m1\u001b[39m] \u001b[38;5;241m=\u001b[39m \u001b[38;5;241m25\u001b[39m\n\u001b[0;32m     14\u001b[0m \u001b[38;5;28mprint\u001b[39m(\u001b[38;5;124m\"\u001b[39m\u001b[38;5;124m-\u001b[39m\u001b[38;5;124m\"\u001b[39m \u001b[38;5;241m*\u001b[39m \u001b[38;5;241m20\u001b[39m)\n\u001b[0;32m     16\u001b[0m \u001b[38;5;28;01mdef\u001b[39;00m\u001b[38;5;250m \u001b[39m\u001b[38;5;21mdemonstrate_arguments\u001b[39m(mutable_arg, immutable_arg):\n",
      "\u001b[1;31mTypeError\u001b[0m: 'tuple' object does not support item assignment"
     ]
    }
   ],
   "source": [
    "# Write a function to demonstrate the behavior of mutable and immutable arguments.\n",
    "my_list = [1, 2, 3, 4]\n",
    "print(f\"Original list: {my_list}\")\n",
    "\n",
    "my_list[1] = 25\n",
    "print(f\"List after changing an element: {my_list}\")\n",
    "\n",
    "print(\"-\" * 20)\n",
    "\n",
    "my_tuple = (1, 2, 3, 4)\n",
    "print(f\"Original tuple: {my_tuple}\")\n",
    "\n",
    "my_tuple[1] = 25\n",
    "print(\"-\" * 20)\n",
    "\n",
    "def demonstrate_arguments(mutable_arg, immutable_arg):\n",
    "    \"\"\"\n",
    "    Demonstrates the behavior of mutable and immutable arguments.\n",
    "    Changes to mutable_arg persist outside the function.\n",
    "    Changes to immutable_arg do not.\n",
    "    \"\"\"\n",
    "    print(\"Inside the function:\")\n",
    "    print(f\"Initial mutable_arg: {mutable_arg}\")\n",
    "    print(f\"Initial immutable_arg: {immutable_arg}\")\n",
    "\n",
    "    mutable_arg.append(6)\n",
    "    print(f\"Mutable argument after modification: {mutable_arg}\")\n",
    "\n",
    "    immutable_arg = immutable_arg + 1\n",
    "    print(f\"Immutable argument after modification: {immutable_arg}\")\n",
    "\n",
    "my_list_2 = [1, 2, 3, 4]\n",
    "my_int = 100\n",
    "\n",
    "print(\"Before function call:\")\n",
    "print(f\"my_list_2: {my_list_2}\")\n",
    "print(f\"my_int: {my_int}\")\n",
    "\n",
    "demonstrate_arguments(my_list_2, my_int)\n",
    "\n",
    "print(\"\\nAfter function call:\")\n",
    "print(f\"my_list_2: {my_list_2}\")\n",
    "print(f\"my_int: {my_int}\")"
   ]
  },
  {
   "cell_type": "code",
   "execution_count": 17,
   "id": "95a4b61b-522b-4331-a6fd-82dfd14d7f69",
   "metadata": {},
   "outputs": [
    {
     "name": "stdin",
     "output_type": "stream",
     "text": [
      "Enter the first number:  5\n",
      "Enter an operator (+, -, *, /):  *\n",
      "Enter the second number:  3\n"
     ]
    },
    {
     "name": "stdout",
     "output_type": "stream",
     "text": [
      "\n",
      "5.0 * 3.0 = 15.0\n"
     ]
    }
   ],
   "source": [
    "# Write a program that performs basic arithmetic operations on two user-input numbers.\n",
    "def simple_calculator():\n",
    "    \"\"\"\n",
    "    Takes two numbers and an operator from the user and performs the\n",
    "    corresponding arithmetic operation.\n",
    "    \"\"\"\n",
    "    num1 = float(input(\"Enter the first number: \"))\n",
    "    operator = input(\"Enter an operator (+, -, *, /): \")\n",
    "    num2 = float(input(\"Enter the second number: \"))\n",
    "    \n",
    "    if operator == '+':\n",
    "        result = num1 + num2\n",
    "        print(f\"\\n{num1} + {num2} = {result}\")\n",
    "    elif operator == '-':\n",
    "        result = num1 - num2\n",
    "        print(f\"\\n{num1} - {num2} = {result}\")\n",
    "    elif operator == '*':\n",
    "        result = num1 * num2\n",
    "        print(f\"\\n{num1} * {num2} = {result}\")\n",
    "    elif operator == '/':\n",
    "        if num2 != 0:\n",
    "            result = num1 / num2\n",
    "            print(f\"\\n{num1} / {num2} = {result}\")\n",
    "        else:\n",
    "            print(\"\\nError: Division by zero is not allowed.\")\n",
    "    else:\n",
    "        print(\"\\nError: Invalid operator. Please use +, -, *, or /.\")\n",
    "\n",
    "simple_calculator()"
   ]
  },
  {
   "cell_type": "code",
   "execution_count": 18,
   "id": "ed6d89ac-8d3b-41e1-bc10-fde5f0dee859",
   "metadata": {},
   "outputs": [
    {
     "name": "stdout",
     "output_type": "stream",
     "text": [
      "--- Using the 'and' operator ---\n",
      "Access granted: You are an adult with a valid ID.\n",
      "\n",
      "--- Using the 'or' operator ---\n",
      "Let's go for a walk.\n",
      "\n",
      "--- Using the 'not' operator ---\n",
      "It's raining, let's grab an umbrella.\n"
     ]
    }
   ],
   "source": [
    "# Write a program to demonstrate the use of logical operators.\n",
    "def demonstrate_logical_operators():\n",
    "    \"\"\"\n",
    "    Demonstrates the use of 'and', 'or', and 'not' operators with examples.\n",
    "    \"\"\"\n",
    "    age = 27\n",
    "    has_id = True\n",
    "    \n",
    "    print(\"--- Using the 'and' operator ---\")\n",
    "    if age >= 18 and has_id:\n",
    "        print(\"Access granted: You are an adult with a valid ID.\")\n",
    "    else:\n",
    "        print(\"Access denied.\")\n",
    "\n",
    "    is_sunny = False\n",
    "    is_weekend = True\n",
    "    \n",
    "    print(\"\\n--- Using the 'or' operator ---\")\n",
    "    if is_sunny or is_weekend:\n",
    "        print(\"Let's go for a walk.\")\n",
    "    else:\n",
    "        print(\"Let's stay inside.\")\n",
    "\n",
    "    is_raining = True\n",
    "    \n",
    "    print(\"\\n--- Using the 'not' operator ---\")\n",
    "    if not is_raining:\n",
    "        print(\"It's not raining, we can play outside.\")\n",
    "    else:\n",
    "        print(\"It's raining, let's grab an umbrella.\")\n",
    "\n",
    "demonstrate_logical_operators()"
   ]
  },
  {
   "cell_type": "code",
   "execution_count": 23,
   "id": "06670197-15d8-4b18-9c90-6a659069f9af",
   "metadata": {},
   "outputs": [
    {
     "name": "stdin",
     "output_type": "stream",
     "text": [
      "Enter a value to convert (e.g., '1234', '3.1415', 'True'):  \n"
     ]
    },
    {
     "name": "stdout",
     "output_type": "stream",
     "text": [
      "\n",
      "--- Performing Type Conversion ---\n",
      "Could not convert '' to an integer.\n",
      "------------------------------\n",
      "Could not convert '' to a float.\n",
      "------------------------------\n",
      "Original String: ''\n",
      "Converted to Boolean: False (Type: <class 'bool'>)\n"
     ]
    }
   ],
   "source": [
    "# Write a Python program to convert user input from string to integer, float, and boolean types.\n",
    "def convert_input():\n",
    "    \"\"\"\n",
    "    Takes a string input from the user and attempts to convert it\n",
    "    to an integer, float, and boolean.\n",
    "    \"\"\"\n",
    "    user_input = input(\"Enter a value to convert (e.g., '1234', '3.1415', 'True'): \")\n",
    "    \n",
    "    print(\"\\n--- Performing Type Conversion ---\")\n",
    "    try:\n",
    "        int_value = int(user_input)\n",
    "        print(f\"Original String: '{user_input}'\")\n",
    "        print(f\"Converted to Integer: {int_value} (Type: {type(int_value)})\")\n",
    "    except ValueError:\n",
    "        print(f\"Could not convert '{user_input}' to an integer.\")\n",
    "        \n",
    "    print(\"-\" * 30)\n",
    "    \n",
    "    try:\n",
    "        float_value = float(user_input)\n",
    "        print(f\"Original String: '{user_input}'\")\n",
    "        print(f\"Converted to Float: {float_value} (Type: {type(float_value)})\")\n",
    "    except ValueError:\n",
    "        print(f\"Could not convert '{user_input}' to a float.\")\n",
    "        \n",
    "    print(\"-\" * 30)\n",
    "    bool_value = bool(user_input)\n",
    "    if user_input.lower() == 'true':\n",
    "        bool_value = True\n",
    "    elif user_input.lower() == 'false':\n",
    "        bool_value = False\n",
    "    \n",
    "    print(f\"Original String: '{user_input}'\")\n",
    "    print(f\"Converted to Boolean: {bool_value} (Type: {type(bool_value)})\")\n",
    "\n",
    "convert_input()"
   ]
  },
  {
   "cell_type": "code",
   "execution_count": 29,
   "id": "31a06331-ffed-4ae3-b0b7-604c32cb854e",
   "metadata": {},
   "outputs": [
    {
     "name": "stdout",
     "output_type": "stream",
     "text": [
      "Original List: [10, 3.1415, '7', '1.99', True, 'hello']\n",
      "------------------------------\n",
      "List with all elements converted to strings:\n",
      "['10', '3.1415', '7', '1.99', 'True', 'hello']\n",
      "------------------------------\n",
      "List with string numbers converted to numeric types:\n",
      "[10, 3, 7, 1.99, 1, 'hello']\n",
      "------------------------------\n",
      "List with booleans converted to integers:\n",
      "[1, 0, 1, 0]\n"
     ]
    }
   ],
   "source": [
    "# Write code to demonstrate type casting with list elements\n",
    "def demonstrate_list_type_casting():\n",
    "    \"\"\"\n",
    "    Creates a list with elements of various types and shows how to\n",
    "    convert them to a common type.\n",
    "    \"\"\"\n",
    "    mixed_list = [10, 3.1415, \"7\", \"1.99\", True, \"hello\"]\n",
    "    print(f\"Original List: {mixed_list}\")\n",
    "    print(\"-\" * 30)\n",
    "\n",
    "    string_list = []\n",
    "    for item in mixed_list:\n",
    "        string_list.append(str(item))\n",
    "\n",
    "    print(\"List with all elements converted to strings:\")\n",
    "    print(string_list)\n",
    "    print(\"-\" * 30)\n",
    "\n",
    "    numeric_list = []\n",
    "    for item in mixed_list:\n",
    "        try:\n",
    "            numeric_list.append(int(item))\n",
    "        except ValueError:\n",
    "            try:\n",
    "                numeric_list.append(float(item))\n",
    "            except ValueError:\n",
    "                numeric_list.append(item)\n",
    "\n",
    "    print(\"List with string numbers converted to numeric types:\")\n",
    "    print(numeric_list)\n",
    "    print(\"-\" * 30)\n",
    "\n",
    "    bool_list = [True, False, True, False]\n",
    "    int_from_bool = []\n",
    "    for item in bool_list:\n",
    "        int_from_bool.append(int(item))\n",
    "    print(\"List with booleans converted to integers:\")\n",
    "    print(int_from_bool)\n",
    "\n",
    "demonstrate_list_type_casting()"
   ]
  },
  {
   "cell_type": "code",
   "execution_count": 32,
   "id": "a5af7a14-7d06-4ccb-b09d-eb6d0b1afe69",
   "metadata": {},
   "outputs": [
    {
     "name": "stdin",
     "output_type": "stream",
     "text": [
      "Enter a number:  0\n"
     ]
    },
    {
     "name": "stdout",
     "output_type": "stream",
     "text": [
      "The number is zero.\n"
     ]
    }
   ],
   "source": [
    "# Write a program that checks if a number is positive, negative, or zero\n",
    "number = float(input(\"Enter a number: \"))\n",
    "\n",
    "if number > 0:\n",
    "    print(\"The number is positive.\")\n",
    "elif number < 0:\n",
    "    print(\"The number is negative.\")\n",
    "else:\n",
    "    print(\"The number is zero.\")"
   ]
  },
  {
   "cell_type": "code",
   "execution_count": 33,
   "id": "b0bfbe6b-53e5-41e0-a108-6bdece4eef16",
   "metadata": {},
   "outputs": [
    {
     "name": "stdout",
     "output_type": "stream",
     "text": [
      "1\n",
      "2\n",
      "3\n",
      "4\n",
      "5\n",
      "6\n",
      "7\n",
      "8\n",
      "9\n",
      "10\n"
     ]
    }
   ],
   "source": [
    "# Write a for loop to print numbers from 1 to 10\n",
    "for i in range(1, 11):\n",
    "    print(i)"
   ]
  },
  {
   "cell_type": "code",
   "execution_count": 34,
   "id": "bf877cd3-87b9-4bda-ab46-3a9cb6b91c56",
   "metadata": {},
   "outputs": [
    {
     "name": "stdout",
     "output_type": "stream",
     "text": [
      "The sum of all even numbers between 1 and 50 is: 650\n"
     ]
    }
   ],
   "source": [
    "# Write a Python program to find the sum of all even numbers between 1 and 50.\n",
    "total_sum = 0\n",
    "\n",
    "for number in range(1, 51):\n",
    "    if number % 2 == 0:\n",
    "        total_sum += number\n",
    "\n",
    "print(f\"The sum of all even numbers between 1 and 50 is: {total_sum}\")"
   ]
  },
  {
   "cell_type": "code",
   "execution_count": 35,
   "id": "13b59d36-3cb7-42cc-8b9e-7f3619459dee",
   "metadata": {},
   "outputs": [
    {
     "name": "stdin",
     "output_type": "stream",
     "text": [
      "Please enter a string to reverse:  Python is huge\n"
     ]
    },
    {
     "name": "stdout",
     "output_type": "stream",
     "text": [
      "The reversed string is: eguh si nohtyP\n"
     ]
    }
   ],
   "source": [
    "# Write a program to reverse a string using a while loop.\n",
    "user_string = input(\"Please enter a string to reverse: \")\n",
    "reversed_string = \"\"\n",
    "index = len(user_string) - 1\n",
    "\n",
    "while index >= 0:\n",
    "    reversed_string += user_string[index]\n",
    "    index -= 1\n",
    "\n",
    "print(f\"The reversed string is: {reversed_string}\")"
   ]
  },
  {
   "cell_type": "code",
   "execution_count": 37,
   "id": "d3f2088e-e0ca-4343-8184-396f3b1c480f",
   "metadata": {},
   "outputs": [
    {
     "name": "stdin",
     "output_type": "stream",
     "text": [
      "Enter a non-negative integer:  5\n"
     ]
    },
    {
     "name": "stdout",
     "output_type": "stream",
     "text": [
      "The factorial of 5 is 120\n"
     ]
    }
   ],
   "source": [
    "# Write a Python program to calculate the factorial of a number provided by the user using a while loop.\n",
    "num = int(input(\"Enter a non-negative integer: \"))\n",
    "\n",
    "if num < 0:\n",
    "    print(\"Factorial does not exist for negative numbers.\")\n",
    "elif num == 0:\n",
    "    print(\"The factorial of 0 is 1.\")\n",
    "else:\n",
    "    factorial = 1\n",
    "    counter = 1\n",
    "\n",
    "    while counter <= num:\n",
    "        factorial *= counter\n",
    "        counter += 1\n",
    "\n",
    "print(f\"The factorial of {num} is {factorial}\")"
   ]
  },
  {
   "cell_type": "code",
   "execution_count": null,
   "id": "9781a328-5283-4ef5-a90f-85cdb8febe2c",
   "metadata": {},
   "outputs": [],
   "source": []
  }
 ],
 "metadata": {
  "kernelspec": {
   "display_name": "Python 3 (ipykernel)",
   "language": "python",
   "name": "python3"
  },
  "language_info": {
   "codemirror_mode": {
    "name": "ipython",
    "version": 3
   },
   "file_extension": ".py",
   "mimetype": "text/x-python",
   "name": "python",
   "nbconvert_exporter": "python",
   "pygments_lexer": "ipython3",
   "version": "3.13.5"
  },
  "panel-cell-order": [
   "35b9c2c9-5bfa-4e07-a4f4-a703d2b6251c",
   "bdbf9614-a1a2-4c5e-b184-e233db812fd8",
   "363dfe51-d1b4-4665-99c6-5a03b9592113",
   "db8af0c0-b50c-4951-a5f6-ea31e00fe88e",
   "cf904d41-d8e9-474d-ba08-424558c3e2d8",
   "c0c00ed1-c721-40ca-ba36-001abe931476"
  ]
 },
 "nbformat": 4,
 "nbformat_minor": 5
}
